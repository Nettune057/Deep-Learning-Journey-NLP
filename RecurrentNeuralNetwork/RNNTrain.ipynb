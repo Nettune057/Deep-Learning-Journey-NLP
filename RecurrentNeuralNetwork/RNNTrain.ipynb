{
 "cells": [
  {
   "cell_type": "code",
   "execution_count": 1,
   "metadata": {},
   "outputs": [
    {
     "name": "stdout",
     "output_type": "stream",
     "text": [
      "\u001b[92m------------------------------------------------------------\u001b[0m\n",
      "                       \u001b[92mGPU Mode (cupy)\u001b[0m\n",
      "\u001b[92m------------------------------------------------------------\u001b[0m\n",
      "\n"
     ]
    }
   ],
   "source": [
    "import sys\n",
    "sys.path.append('..')\n",
    "from util.optimizer import SGD\n",
    "from util.trainer import RnnlmTrainer\n",
    "from dataset import ptb\n",
    "from model.RNNLM import SimpleRnnlm"
   ]
  },
  {
   "cell_type": "code",
   "execution_count": 2,
   "metadata": {},
   "outputs": [],
   "source": [
    "# Setting hyperparameters\n",
    "batch_size = 10\n",
    "wordvec_size = 100\n",
    "hidden_size = 100  # Number of elements in hidden state vector of RNN\n",
    "time_size = 5  # Size to expand RNN\n",
    "lr = 0.1\n",
    "max_epoch = 100"
   ]
  },
  {
   "cell_type": "code",
   "execution_count": 3,
   "metadata": {},
   "outputs": [],
   "source": [
    "# Load training data\n",
    "corpus, word_to_id, id_to_word = ptb.load_data('train')\n",
    "corpus_size = 1000  # Make the dataset smaller for testing\n",
    "corpus = corpus[:corpus_size]\n",
    "vocab_size = int(max(corpus) + 1)\n",
    "xs = corpus[:-1]  # input\n",
    "ts = corpus[1:]  # Output (label)\n"
   ]
  },
  {
   "cell_type": "code",
   "execution_count": 4,
   "metadata": {},
   "outputs": [],
   "source": [
    "# Generate model\n",
    "model = SimpleRnnlm(vocab_size, wordvec_size, hidden_size)\n",
    "optimizer = SGD(lr)\n",
    "trainer = RnnlmTrainer(model, optimizer)"
   ]
  },
  {
   "cell_type": "code",
   "execution_count": 5,
   "metadata": {},
   "outputs": [
    {
     "name": "stdout",
     "output_type": "stream",
     "text": [
      "| epoch 1 |  iter 1 / 19 | time 2[s] | perplexity 418.17\n",
      "| epoch 2 |  iter 1 / 19 | time 2[s] | perplexity 357.88\n",
      "| epoch 3 |  iter 1 / 19 | time 3[s] | perplexity 256.73\n",
      "| epoch 4 |  iter 1 / 19 | time 3[s] | perplexity 222.45\n",
      "| epoch 5 |  iter 1 / 19 | time 3[s] | perplexity 210.51\n",
      "| epoch 6 |  iter 1 / 19 | time 3[s] | perplexity 207.99\n",
      "| epoch 7 |  iter 1 / 19 | time 3[s] | perplexity 199.97\n",
      "| epoch 8 |  iter 1 / 19 | time 3[s] | perplexity 200.42\n",
      "| epoch 9 |  iter 1 / 19 | time 3[s] | perplexity 194.55\n",
      "| epoch 10 |  iter 1 / 19 | time 3[s] | perplexity 190.39\n",
      "| epoch 11 |  iter 1 / 19 | time 3[s] | perplexity 192.48\n",
      "| epoch 12 |  iter 1 / 19 | time 3[s] | perplexity 188.28\n",
      "| epoch 13 |  iter 1 / 19 | time 3[s] | perplexity 192.95\n",
      "| epoch 14 |  iter 1 / 19 | time 4[s] | perplexity 187.70\n",
      "| epoch 15 |  iter 1 / 19 | time 4[s] | perplexity 186.37\n",
      "| epoch 16 |  iter 1 / 19 | time 4[s] | perplexity 189.44\n",
      "| epoch 17 |  iter 1 / 19 | time 4[s] | perplexity 188.50\n",
      "| epoch 18 |  iter 1 / 19 | time 4[s] | perplexity 184.29\n",
      "| epoch 19 |  iter 1 / 19 | time 4[s] | perplexity 180.45\n",
      "| epoch 20 |  iter 1 / 19 | time 4[s] | perplexity 180.06\n",
      "| epoch 21 |  iter 1 / 19 | time 4[s] | perplexity 176.58\n",
      "| epoch 22 |  iter 1 / 19 | time 4[s] | perplexity 179.26\n",
      "| epoch 23 |  iter 1 / 19 | time 4[s] | perplexity 178.31\n",
      "| epoch 24 |  iter 1 / 19 | time 4[s] | perplexity 175.68\n",
      "| epoch 25 |  iter 1 / 19 | time 4[s] | perplexity 170.25\n",
      "| epoch 26 |  iter 1 / 19 | time 5[s] | perplexity 170.73\n",
      "| epoch 27 |  iter 1 / 19 | time 5[s] | perplexity 168.40\n",
      "| epoch 28 |  iter 1 / 19 | time 5[s] | perplexity 167.34\n",
      "| epoch 29 |  iter 1 / 19 | time 5[s] | perplexity 162.80\n",
      "| epoch 30 |  iter 1 / 19 | time 5[s] | perplexity 159.54\n",
      "| epoch 31 |  iter 1 / 19 | time 5[s] | perplexity 154.16\n",
      "| epoch 32 |  iter 1 / 19 | time 5[s] | perplexity 150.57\n",
      "| epoch 33 |  iter 1 / 19 | time 5[s] | perplexity 150.13\n",
      "| epoch 34 |  iter 1 / 19 | time 5[s] | perplexity 146.59\n",
      "| epoch 35 |  iter 1 / 19 | time 5[s] | perplexity 140.65\n",
      "| epoch 36 |  iter 1 / 19 | time 5[s] | perplexity 137.17\n",
      "| epoch 37 |  iter 1 / 19 | time 6[s] | perplexity 136.96\n",
      "| epoch 38 |  iter 1 / 19 | time 6[s] | perplexity 127.29\n",
      "| epoch 39 |  iter 1 / 19 | time 6[s] | perplexity 123.99\n",
      "| epoch 40 |  iter 1 / 19 | time 6[s] | perplexity 118.53\n",
      "| epoch 41 |  iter 1 / 19 | time 6[s] | perplexity 115.79\n",
      "| epoch 42 |  iter 1 / 19 | time 6[s] | perplexity 112.27\n",
      "| epoch 43 |  iter 1 / 19 | time 6[s] | perplexity 106.30\n",
      "| epoch 44 |  iter 1 / 19 | time 6[s] | perplexity 102.86\n",
      "| epoch 45 |  iter 1 / 19 | time 6[s] | perplexity 97.55\n",
      "| epoch 46 |  iter 1 / 19 | time 6[s] | perplexity 94.30\n",
      "| epoch 47 |  iter 1 / 19 | time 6[s] | perplexity 92.76\n",
      "| epoch 48 |  iter 1 / 19 | time 7[s] | perplexity 88.26\n",
      "| epoch 49 |  iter 1 / 19 | time 7[s] | perplexity 82.86\n",
      "| epoch 50 |  iter 1 / 19 | time 7[s] | perplexity 78.48\n",
      "| epoch 51 |  iter 1 / 19 | time 7[s] | perplexity 75.66\n",
      "| epoch 52 |  iter 1 / 19 | time 7[s] | perplexity 70.05\n",
      "| epoch 53 |  iter 1 / 19 | time 7[s] | perplexity 67.97\n",
      "| epoch 54 |  iter 1 / 19 | time 7[s] | perplexity 63.83\n",
      "| epoch 55 |  iter 1 / 19 | time 7[s] | perplexity 62.18\n",
      "| epoch 56 |  iter 1 / 19 | time 7[s] | perplexity 58.14\n",
      "| epoch 57 |  iter 1 / 19 | time 7[s] | perplexity 57.52\n",
      "| epoch 58 |  iter 1 / 19 | time 7[s] | perplexity 54.08\n",
      "| epoch 59 |  iter 1 / 19 | time 7[s] | perplexity 51.00\n",
      "| epoch 60 |  iter 1 / 19 | time 8[s] | perplexity 48.13\n",
      "| epoch 61 |  iter 1 / 19 | time 8[s] | perplexity 44.75\n",
      "| epoch 62 |  iter 1 / 19 | time 8[s] | perplexity 42.87\n",
      "| epoch 63 |  iter 1 / 19 | time 8[s] | perplexity 41.73\n",
      "| epoch 64 |  iter 1 / 19 | time 8[s] | perplexity 39.19\n",
      "| epoch 65 |  iter 1 / 19 | time 8[s] | perplexity 35.83\n",
      "| epoch 66 |  iter 1 / 19 | time 8[s] | perplexity 33.64\n",
      "| epoch 67 |  iter 1 / 19 | time 8[s] | perplexity 32.21\n",
      "| epoch 68 |  iter 1 / 19 | time 8[s] | perplexity 31.46\n",
      "| epoch 69 |  iter 1 / 19 | time 8[s] | perplexity 29.54\n",
      "| epoch 70 |  iter 1 / 19 | time 8[s] | perplexity 27.29\n",
      "| epoch 71 |  iter 1 / 19 | time 8[s] | perplexity 26.28\n",
      "| epoch 72 |  iter 1 / 19 | time 9[s] | perplexity 24.93\n",
      "| epoch 73 |  iter 1 / 19 | time 9[s] | perplexity 23.76\n",
      "| epoch 74 |  iter 1 / 19 | time 9[s] | perplexity 22.02\n",
      "| epoch 75 |  iter 1 / 19 | time 9[s] | perplexity 21.03\n",
      "| epoch 76 |  iter 1 / 19 | time 9[s] | perplexity 19.99\n",
      "| epoch 77 |  iter 1 / 19 | time 9[s] | perplexity 19.05\n",
      "| epoch 78 |  iter 1 / 19 | time 9[s] | perplexity 17.95\n",
      "| epoch 79 |  iter 1 / 19 | time 9[s] | perplexity 16.86\n",
      "| epoch 80 |  iter 1 / 19 | time 9[s] | perplexity 15.27\n",
      "| epoch 81 |  iter 1 / 19 | time 9[s] | perplexity 14.34\n",
      "| epoch 82 |  iter 1 / 19 | time 9[s] | perplexity 14.28\n",
      "| epoch 83 |  iter 1 / 19 | time 10[s] | perplexity 13.68\n",
      "| epoch 84 |  iter 1 / 19 | time 10[s] | perplexity 13.00\n",
      "| epoch 85 |  iter 1 / 19 | time 10[s] | perplexity 12.17\n",
      "| epoch 86 |  iter 1 / 19 | time 10[s] | perplexity 11.88\n",
      "| epoch 87 |  iter 1 / 19 | time 10[s] | perplexity 11.11\n",
      "| epoch 88 |  iter 1 / 19 | time 10[s] | perplexity 10.22\n",
      "| epoch 89 |  iter 1 / 19 | time 10[s] | perplexity 10.66\n",
      "| epoch 90 |  iter 1 / 19 | time 10[s] | perplexity 9.37\n",
      "| epoch 91 |  iter 1 / 19 | time 10[s] | perplexity 9.11\n",
      "| epoch 92 |  iter 1 / 19 | time 10[s] | perplexity 8.58\n",
      "| epoch 93 |  iter 1 / 19 | time 10[s] | perplexity 8.42\n",
      "| epoch 94 |  iter 1 / 19 | time 10[s] | perplexity 7.72\n",
      "| epoch 95 |  iter 1 / 19 | time 11[s] | perplexity 7.57\n",
      "| epoch 96 |  iter 1 / 19 | time 11[s] | perplexity 7.52\n",
      "| epoch 97 |  iter 1 / 19 | time 11[s] | perplexity 6.96\n",
      "| epoch 98 |  iter 1 / 19 | time 11[s] | perplexity 6.50\n",
      "| epoch 99 |  iter 1 / 19 | time 11[s] | perplexity 5.85\n",
      "| epoch 100 |  iter 1 / 19 | time 11[s] | perplexity 5.75\n"
     ]
    },
    {
     "data": {
      "image/png": "[encoded data removed]",
      "text/plain": [
       "<Figure size 640x480 with 1 Axes>"
      ]
     },
     "metadata": {},
     "output_type": "display_data"
    }
   ],
   "source": [
    "trainer.fit(xs, ts, max_epoch, batch_size, time_size)\n",
    "trainer.plot()"
   ]
  }
 ],
 "metadata": {
  "kernelspec": {
   "display_name": "Pytorch",
   "language": "python",
   "name": "python3"
  },
  "language_info": {
   "codemirror_mode": {
    "name": "ipython",
    "version": 3
   },
   "file_extension": ".py",
   "mimetype": "text/x-python",
   "name": "python",
   "nbconvert_exporter": "python",
   "pygments_lexer": "ipython3",
   "version": "3.10.12"
  }
 },
 "nbformat": 4,
 "nbformat_minor": 2
}
