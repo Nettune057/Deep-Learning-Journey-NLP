{
 "cells": [
  {
   "cell_type": "code",
   "execution_count": 1,
   "metadata": {},
   "outputs": [
    {
     "name": "stdout",
     "output_type": "stream",
     "text": [
      "\u001b[92m------------------------------------------------------------\u001b[0m\n",
      "                       \u001b[92mGPU Mode (cupy)\u001b[0m\n",
      "\u001b[92m------------------------------------------------------------\u001b[0m\n",
      "\n"
     ]
    }
   ],
   "source": [
    "import sys\n",
    "sys.path.append('..')\n",
    "import numpy as np\n",
    "from util.layers import MatMul\n",
    "from util.tools import *\n",
    "from model.simple_CBOW import SimpleCBOW\n",
    "from util.trainer import Trainer\n",
    "from util.optimizer import Adam\n",
    "import matplotlib.pyplot as plt"
   ]
  },
  {
   "cell_type": "code",
   "execution_count": 2,
   "metadata": {},
   "outputs": [],
   "source": [
    "c = np.array([[1,0,0,0,0,0,0]])\n",
    "W = np.random.randn(7,3)"
   ]
  },
  {
   "cell_type": "markdown",
   "metadata": {},
   "source": [
    "Fully Connected Layer"
   ]
  },
  {
   "cell_type": "code",
   "execution_count": 3,
   "metadata": {},
   "outputs": [
    {
     "name": "stdout",
     "output_type": "stream",
     "text": [
      "[[ 0.35288027 -1.24601732 -0.20546003]]\n"
     ]
    }
   ],
   "source": [
    "h = np.matmul(c,W)\n",
    "print(h)"
   ]
  },
  {
   "cell_type": "markdown",
   "metadata": {},
   "source": [
    "MalMul layer"
   ]
  },
  {
   "cell_type": "code",
   "execution_count": 4,
   "metadata": {},
   "outputs": [
    {
     "name": "stdout",
     "output_type": "stream",
     "text": [
      "[[ 0.35288027 -1.24601732 -0.20546003]]\n"
     ]
    }
   ],
   "source": [
    "layer = MatMul(W)\n",
    "hM = layer.forward(c)\n",
    "print(hM)"
   ]
  },
  {
   "cell_type": "markdown",
   "metadata": {},
   "source": [
    "CBOW with MatMul"
   ]
  },
  {
   "cell_type": "code",
   "execution_count": 5,
   "metadata": {},
   "outputs": [],
   "source": [
    "c0 = np.array([[1,0,0,0,0,0,0]])\n",
    "c1 = np.array([[0,0,1,0,0,0,0]])"
   ]
  },
  {
   "cell_type": "code",
   "execution_count": 6,
   "metadata": {},
   "outputs": [],
   "source": [
    "W_in = np.random.randn(7,3)\n",
    "W_out = np.random.randn(3,7)"
   ]
  },
  {
   "cell_type": "code",
   "execution_count": 7,
   "metadata": {},
   "outputs": [],
   "source": [
    "in_layer0 = MatMul(W_in)\n",
    "in_layer1 = MatMul(W_in)\n",
    "out_layer = MatMul(W_out)"
   ]
  },
  {
   "cell_type": "code",
   "execution_count": 8,
   "metadata": {},
   "outputs": [
    {
     "data": {
      "text/plain": [
       "array([[ 0.55333659, -0.14614198,  0.24786934, -0.95962313,  0.17326406,\n",
       "        -0.23854647,  0.33290667]])"
      ]
     },
     "execution_count": 8,
     "metadata": {},
     "output_type": "execute_result"
    }
   ],
   "source": [
    "h0 = in_layer0.forward(c0)\n",
    "h1 = in_layer1.forward(c1)\n",
    "h = 0.5 * (h0+h1)\n",
    "s = out_layer.forward(h)\n",
    "s"
   ]
  },
  {
   "cell_type": "markdown",
   "metadata": {},
   "source": [
    "CBOW with real text"
   ]
  },
  {
   "cell_type": "code",
   "execution_count": 9,
   "metadata": {},
   "outputs": [],
   "source": [
    "text = 'I am Tung and I was UETer.'"
   ]
  },
  {
   "cell_type": "code",
   "execution_count": 10,
   "metadata": {},
   "outputs": [
    {
     "data": {
      "text/plain": [
       "array([0, 1, 2, 3, 0, 4, 5, 6])"
      ]
     },
     "execution_count": 10,
     "metadata": {},
     "output_type": "execute_result"
    }
   ],
   "source": [
    "corpus, word_to_id, id_to_word = preprocess(text)\n",
    "corpus"
   ]
  },
  {
   "cell_type": "code",
   "execution_count": 11,
   "metadata": {},
   "outputs": [
    {
     "data": {
      "text/plain": [
       "{0: 'i', 1: 'am', 2: 'tung', 3: 'and', 4: 'was', 5: 'ueter', 6: '.'}"
      ]
     },
     "execution_count": 11,
     "metadata": {},
     "output_type": "execute_result"
    }
   ],
   "source": [
    "id_to_word"
   ]
  },
  {
   "cell_type": "code",
   "execution_count": 12,
   "metadata": {},
   "outputs": [
    {
     "data": {
      "text/plain": [
       "array([[0, 2],\n",
       "       [1, 3],\n",
       "       [2, 0],\n",
       "       [3, 4],\n",
       "       [0, 5],\n",
       "       [4, 6]])"
      ]
     },
     "execution_count": 12,
     "metadata": {},
     "output_type": "execute_result"
    }
   ],
   "source": [
    "contexts,target = create_contexts_target(corpus, window_size=1)\n",
    "contexts"
   ]
  },
  {
   "cell_type": "code",
   "execution_count": 13,
   "metadata": {},
   "outputs": [
    {
     "data": {
      "text/plain": [
       "array([1, 2, 3, 0, 4, 5])"
      ]
     },
     "execution_count": 13,
     "metadata": {},
     "output_type": "execute_result"
    }
   ],
   "source": [
    "target"
   ]
  },
  {
   "cell_type": "code",
   "execution_count": 14,
   "metadata": {},
   "outputs": [],
   "source": [
    "vocab_size = len(word_to_id)\n",
    "target = convert_one_hot(target,vocab_size)\n",
    "contexts = convert_one_hot(contexts,vocab_size)"
   ]
  },
  {
   "cell_type": "markdown",
   "metadata": {},
   "source": [
    "Main Training"
   ]
  },
  {
   "cell_type": "code",
   "execution_count": 15,
   "metadata": {},
   "outputs": [],
   "source": [
    "window_size = 1\n",
    "hidden_size = 5\n",
    "batch_size = 3\n",
    "max_epoch = 100"
   ]
  },
  {
   "cell_type": "code",
   "execution_count": 16,
   "metadata": {},
   "outputs": [],
   "source": [
    "model = SimpleCBOW(vocab_size, hidden_size)\n",
    "optimizer = Adam()\n",
    "trainer = Trainer(model,optimizer)"
   ]
  },
  {
   "cell_type": "code",
   "execution_count": 17,
   "metadata": {},
   "outputs": [
    {
     "name": "stdout",
     "output_type": "stream",
     "text": [
      "| epoch 1 |  iter 1 / 2 | time 0[s] | loss 1.95\n",
      "| epoch 2 |  iter 1 / 2 | time 0[s] | loss 1.95\n",
      "| epoch 3 |  iter 1 / 2 | time 0[s] | loss 1.95\n",
      "| epoch 4 |  iter 1 / 2 | time 0[s] | loss 1.95\n",
      "| epoch 5 |  iter 1 / 2 | time 0[s] | loss 1.95\n",
      "| epoch 6 |  iter 1 / 2 | time 0[s] | loss 1.95\n",
      "| epoch 7 |  iter 1 / 2 | time 0[s] | loss 1.95\n",
      "| epoch 8 |  iter 1 / 2 | time 0[s] | loss 1.95\n",
      "| epoch 9 |  iter 1 / 2 | time 0[s] | loss 1.94\n",
      "| epoch 10 |  iter 1 / 2 | time 0[s] | loss 1.94\n",
      "| epoch 11 |  iter 1 / 2 | time 0[s] | loss 1.94\n",
      "| epoch 12 |  iter 1 / 2 | time 0[s] | loss 1.94\n",
      "| epoch 13 |  iter 1 / 2 | time 0[s] | loss 1.94\n",
      "| epoch 14 |  iter 1 / 2 | time 0[s] | loss 1.94\n",
      "| epoch 15 |  iter 1 / 2 | time 0[s] | loss 1.94\n",
      "| epoch 16 |  iter 1 / 2 | time 0[s] | loss 1.94\n",
      "| epoch 17 |  iter 1 / 2 | time 0[s] | loss 1.94\n",
      "| epoch 18 |  iter 1 / 2 | time 0[s] | loss 1.94\n",
      "| epoch 19 |  iter 1 / 2 | time 0[s] | loss 1.94\n",
      "| epoch 20 |  iter 1 / 2 | time 0[s] | loss 1.94\n",
      "| epoch 21 |  iter 1 / 2 | time 0[s] | loss 1.94\n",
      "| epoch 22 |  iter 1 / 2 | time 0[s] | loss 1.94\n",
      "| epoch 23 |  iter 1 / 2 | time 0[s] | loss 1.94\n",
      "| epoch 24 |  iter 1 / 2 | time 0[s] | loss 1.94\n",
      "| epoch 25 |  iter 1 / 2 | time 0[s] | loss 1.94\n",
      "| epoch 26 |  iter 1 / 2 | time 0[s] | loss 1.94\n",
      "| epoch 27 |  iter 1 / 2 | time 0[s] | loss 1.94\n",
      "| epoch 28 |  iter 1 / 2 | time 0[s] | loss 1.93\n",
      "| epoch 29 |  iter 1 / 2 | time 0[s] | loss 1.94\n",
      "| epoch 30 |  iter 1 / 2 | time 0[s] | loss 1.93\n",
      "| epoch 31 |  iter 1 / 2 | time 0[s] | loss 1.93\n",
      "| epoch 32 |  iter 1 / 2 | time 0[s] | loss 1.93\n",
      "| epoch 33 |  iter 1 / 2 | time 0[s] | loss 1.93\n",
      "| epoch 34 |  iter 1 / 2 | time 0[s] | loss 1.93\n",
      "| epoch 35 |  iter 1 / 2 | time 0[s] | loss 1.93\n",
      "| epoch 36 |  iter 1 / 2 | time 0[s] | loss 1.93\n",
      "| epoch 37 |  iter 1 / 2 | time 0[s] | loss 1.93\n",
      "| epoch 38 |  iter 1 / 2 | time 0[s] | loss 1.93\n",
      "| epoch 39 |  iter 1 / 2 | time 0[s] | loss 1.92\n",
      "| epoch 40 |  iter 1 / 2 | time 0[s] | loss 1.92\n",
      "| epoch 41 |  iter 1 / 2 | time 0[s] | loss 1.92\n",
      "| epoch 42 |  iter 1 / 2 | time 0[s] | loss 1.92\n",
      "| epoch 43 |  iter 1 / 2 | time 0[s] | loss 1.92\n",
      "| epoch 44 |  iter 1 / 2 | time 0[s] | loss 1.91\n",
      "| epoch 45 |  iter 1 / 2 | time 0[s] | loss 1.92\n",
      "| epoch 46 |  iter 1 / 2 | time 0[s] | loss 1.92\n",
      "| epoch 47 |  iter 1 / 2 | time 0[s] | loss 1.91\n",
      "| epoch 48 |  iter 1 / 2 | time 0[s] | loss 1.91\n",
      "| epoch 49 |  iter 1 / 2 | time 0[s] | loss 1.91\n",
      "| epoch 50 |  iter 1 / 2 | time 0[s] | loss 1.90\n",
      "| epoch 51 |  iter 1 / 2 | time 0[s] | loss 1.90\n",
      "| epoch 52 |  iter 1 / 2 | time 0[s] | loss 1.90\n",
      "| epoch 53 |  iter 1 / 2 | time 0[s] | loss 1.89\n",
      "| epoch 54 |  iter 1 / 2 | time 0[s] | loss 1.90\n",
      "| epoch 55 |  iter 1 / 2 | time 0[s] | loss 1.89\n",
      "| epoch 56 |  iter 1 / 2 | time 0[s] | loss 1.90\n",
      "| epoch 57 |  iter 1 / 2 | time 0[s] | loss 1.89\n",
      "| epoch 58 |  iter 1 / 2 | time 0[s] | loss 1.88\n",
      "| epoch 59 |  iter 1 / 2 | time 0[s] | loss 1.88\n",
      "| epoch 60 |  iter 1 / 2 | time 0[s] | loss 1.89\n",
      "| epoch 61 |  iter 1 / 2 | time 0[s] | loss 1.87\n",
      "| epoch 62 |  iter 1 / 2 | time 0[s] | loss 1.88\n"
     ]
    },
    {
     "name": "stdout",
     "output_type": "stream",
     "text": [
      "| epoch 63 |  iter 1 / 2 | time 0[s] | loss 1.86\n",
      "| epoch 64 |  iter 1 / 2 | time 0[s] | loss 1.88\n",
      "| epoch 65 |  iter 1 / 2 | time 0[s] | loss 1.87\n",
      "| epoch 66 |  iter 1 / 2 | time 0[s] | loss 1.85\n",
      "| epoch 67 |  iter 1 / 2 | time 0[s] | loss 1.86\n",
      "| epoch 68 |  iter 1 / 2 | time 0[s] | loss 1.86\n",
      "| epoch 69 |  iter 1 / 2 | time 0[s] | loss 1.86\n",
      "| epoch 70 |  iter 1 / 2 | time 0[s] | loss 1.85\n",
      "| epoch 71 |  iter 1 / 2 | time 0[s] | loss 1.84\n",
      "| epoch 72 |  iter 1 / 2 | time 0[s] | loss 1.84\n",
      "| epoch 73 |  iter 1 / 2 | time 0[s] | loss 1.84\n",
      "| epoch 74 |  iter 1 / 2 | time 0[s] | loss 1.85\n",
      "| epoch 75 |  iter 1 / 2 | time 0[s] | loss 1.82\n",
      "| epoch 76 |  iter 1 / 2 | time 0[s] | loss 1.84\n",
      "| epoch 77 |  iter 1 / 2 | time 0[s] | loss 1.84\n",
      "| epoch 78 |  iter 1 / 2 | time 0[s] | loss 1.82\n",
      "| epoch 79 |  iter 1 / 2 | time 0[s] | loss 1.82\n",
      "| epoch 80 |  iter 1 / 2 | time 0[s] | loss 1.81\n",
      "| epoch 81 |  iter 1 / 2 | time 0[s] | loss 1.81\n",
      "| epoch 82 |  iter 1 / 2 | time 0[s] | loss 1.81\n",
      "| epoch 83 |  iter 1 / 2 | time 0[s] | loss 1.81\n",
      "| epoch 84 |  iter 1 / 2 | time 0[s] | loss 1.81\n",
      "| epoch 85 |  iter 1 / 2 | time 0[s] | loss 1.79\n",
      "| epoch 86 |  iter 1 / 2 | time 0[s] | loss 1.81\n",
      "| epoch 87 |  iter 1 / 2 | time 0[s] | loss 1.80\n",
      "| epoch 88 |  iter 1 / 2 | time 0[s] | loss 1.78\n",
      "| epoch 89 |  iter 1 / 2 | time 0[s] | loss 1.80\n",
      "| epoch 90 |  iter 1 / 2 | time 0[s] | loss 1.79\n",
      "| epoch 91 |  iter 1 / 2 | time 0[s] | loss 1.78\n",
      "| epoch 92 |  iter 1 / 2 | time 0[s] | loss 1.75\n",
      "| epoch 93 |  iter 1 / 2 | time 0[s] | loss 1.79\n",
      "| epoch 94 |  iter 1 / 2 | time 0[s] | loss 1.77\n",
      "| epoch 95 |  iter 1 / 2 | time 0[s] | loss 1.75\n",
      "| epoch 96 |  iter 1 / 2 | time 0[s] | loss 1.77\n",
      "| epoch 97 |  iter 1 / 2 | time 0[s] | loss 1.77\n",
      "| epoch 98 |  iter 1 / 2 | time 0[s] | loss 1.73\n",
      "| epoch 99 |  iter 1 / 2 | time 0[s] | loss 1.76\n",
      "| epoch 100 |  iter 1 / 2 | time 0[s] | loss 1.75\n"
     ]
    },
    {
     "data": {
      "image/png": "[encoded data removed]",
      "text/plain": [
       "<Figure size 640x480 with 1 Axes>"
      ]
     },
     "metadata": {},
     "output_type": "display_data"
    }
   ],
   "source": [
    "trainer.fit(contexts, target,max_epoch,batch_size)\n",
    "trainer.plot()"
   ]
  },
  {
   "cell_type": "code",
   "execution_count": 18,
   "metadata": {},
   "outputs": [
    {
     "name": "stdout",
     "output_type": "stream",
     "text": [
      "i [-0.26670715  0.25921863  0.2828617   0.2804646  -0.17639576]\n",
      "am [ 0.19909744 -0.1966328  -0.19842605 -0.21623304 -0.22415164]\n",
      "tung [-0.2377425   0.23533206  0.22893828  0.24722455 -0.25411233]\n",
      "and [ 0.24419555 -0.25425044 -0.23066652 -0.06814615 -0.03972277]\n",
      "was [ 0.23403443 -0.25358027 -0.24226274 -0.06037685  0.25204304]\n",
      "ueter [-0.2035876   0.10977025  0.21311337  0.19000816  0.21157406]\n",
      ". [ 0.20893565 -0.19675474 -0.20392376 -0.21742663  0.1751708 ]\n"
     ]
    }
   ],
   "source": [
    "word_vecs = model.word_vecs\n",
    "for word_id, word in id_to_word.items():\n",
    "    print(word, word_vecs[word_id])"
   ]
  }
 ],
 "metadata": {
  "kernelspec": {
   "display_name": "Pytorch",
   "language": "python",
   "name": "python3"
  },
  "language_info": {
   "codemirror_mode": {
    "name": "ipython",
    "version": 3
   },
   "file_extension": ".py",
   "mimetype": "text/x-python",
   "name": "python",
   "nbconvert_exporter": "python",
   "pygments_lexer": "ipython3",
   "version": "3.10.12"
  }
 },
 "nbformat": 4,
 "nbformat_minor": 4
}
